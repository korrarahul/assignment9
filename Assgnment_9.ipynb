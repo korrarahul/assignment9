{
  "nbformat": 4,
  "nbformat_minor": 0,
  "metadata": {
    "colab": {
      "provenance": []
    },
    "kernelspec": {
      "name": "python3",
      "display_name": "Python 3"
    },
    "language_info": {
      "name": "python"
    }
  },
  "cells": [
    {
      "cell_type": "code",
      "execution_count": 1,
      "metadata": {
        "id": "7xfJ3BBT1Fd_"
      },
      "outputs": [],
      "source": [
        "import pandas as pd #Basic packages for creating dataframes and loading dataset\n",
        "import numpy as np\n",
        "import matplotlib.pyplot as plt #Package for visualization\n",
        "import re #importing package for Regular expression operations\n",
        "from sklearn.model_selection import train_test_split #Package for splitting the data\n",
        "from sklearn.preprocessing import LabelEncoder #Package for conversion of categorical to Numerical\n",
        "from keras.preprocessing.text import Tokenizer #Tokenization\n",
        "from keras.preprocessing.sequence import pad_sequences #Add zeros or crop based on the length\n",
        "from keras.models import Sequential #Sequential Neural Network\n",
        "from keras.layers import Dense, Embedding, LSTM, SpatialDropout1D #For layers in Neural Network\n",
        "from keras.utils import to_categorical"
      ]
    },
    {
      "cell_type": "code",
      "source": [
        "import pandas as pd\n",
        "\n",
        "# Load the dataset as a Pandas DataFrame\n",
        "dataset = pd.read_csv('/content/drive/MyDrive/Neural_network/Sentiment (3).csv')\n",
        "\n",
        "# Select only the necessary columns 'text' and 'sentiment'\n",
        "mask = dataset.columns.isin(['text', 'sentiment'])\n",
        "data = dataset.loc[:, mask]"
      ],
      "metadata": {
        "id": "xUGhPZL81-ot"
      },
      "execution_count": 6,
      "outputs": []
    },
    {
      "cell_type": "code",
      "source": [
        "data['text'] = data['text'].apply(lambda x: x.lower())\n",
        "data['text'] = data['text'].apply((lambda x: re.sub('[^a-zA-z0-9\\s]', '', x)))"
      ],
      "metadata": {
        "colab": {
          "base_uri": "https://localhost:8080/"
        },
        "id": "U0o9lPyt2hhS",
        "outputId": "a0e29f1d-bec0-4cdd-a7ca-711b1c266c9d"
      },
      "execution_count": 7,
      "outputs": [
        {
          "output_type": "stream",
          "name": "stderr",
          "text": [
            "<ipython-input-7-cee1da567eb8>:1: SettingWithCopyWarning: \n",
            "A value is trying to be set on a copy of a slice from a DataFrame.\n",
            "Try using .loc[row_indexer,col_indexer] = value instead\n",
            "\n",
            "See the caveats in the documentation: https://pandas.pydata.org/pandas-docs/stable/user_guide/indexing.html#returning-a-view-versus-a-copy\n",
            "  data['text'] = data['text'].apply(lambda x: x.lower())\n",
            "<ipython-input-7-cee1da567eb8>:2: SettingWithCopyWarning: \n",
            "A value is trying to be set on a copy of a slice from a DataFrame.\n",
            "Try using .loc[row_indexer,col_indexer] = value instead\n",
            "\n",
            "See the caveats in the documentation: https://pandas.pydata.org/pandas-docs/stable/user_guide/indexing.html#returning-a-view-versus-a-copy\n",
            "  data['text'] = data['text'].apply((lambda x: re.sub('[^a-zA-z0-9\\s]', '', x)))\n"
          ]
        }
      ]
    },
    {
      "cell_type": "code",
      "source": [
        "for idx, row in data.iterrows():\n",
        "    row[0] = row[0].replace('rt', ' ') #Removing Retweets"
      ],
      "metadata": {
        "id": "tXtCRU8s2ks9"
      },
      "execution_count": 8,
      "outputs": []
    },
    {
      "cell_type": "code",
      "source": [
        "max_fatures = 2000\n",
        "tokenizer = Tokenizer(num_words=max_fatures, split=' ') #Maximum words is 2000 to tokenize sentence\n",
        "tokenizer.fit_on_texts(data['text'].values)\n",
        "X = tokenizer.texts_to_sequences(data['text'].values) #taking values to feature matrix"
      ],
      "metadata": {
        "id": "KGBQgRO_2mwd"
      },
      "execution_count": 9,
      "outputs": []
    },
    {
      "cell_type": "code",
      "source": [
        "X = pad_sequences(X) #Padding the feature matrix\n",
        "\n",
        "embed_dim = 128 #Dimension of the Embedded layer\n",
        "lstm_out = 196 #Long short-term memory (LSTM) layer neurons"
      ],
      "metadata": {
        "id": "ETVQHOT_2qNv"
      },
      "execution_count": 13,
      "outputs": []
    },
    {
      "cell_type": "code",
      "source": [
        "def createmodel():\n",
        "    model = Sequential() #Sequential Neural Network\n",
        "    model.add(Embedding(max_fatures, embed_dim,input_length = X.shape[1])) #input dimension 2000 Neurons, output dimension 128 Neurons\n",
        "    model.add(LSTM(lstm_out, dropout=0.2, recurrent_dropout=0.2)) #Drop out 20%, 196 output Neurons, recurrent dropout 20%\n",
        "    model.add(Dense(3,activation='softmax')) #3 output neurons[positive, Neutral, Negative], softmax as activation\n",
        "    model.compile(loss = 'categorical_crossentropy', optimizer='adam',metrics = ['accuracy']) #Compiling the model\n",
        "    return model\n",
        "# print(model.summary())"
      ],
      "metadata": {
        "id": "-kLcV4U92uD5"
      },
      "execution_count": 14,
      "outputs": []
    },
    {
      "cell_type": "code",
      "source": [
        "labelencoder = LabelEncoder() #Applying label Encoding on the label matrix\n",
        "integer_encoded = labelencoder.fit_transform(data['sentiment']) #fitting the model\n",
        "y = to_categorical(integer_encoded)\n",
        "X_train, X_test, Y_train, Y_test = train_test_split(X,y, test_size = 0.33, random_state = 42) #67% training"
      ],
      "metadata": {
        "id": "j_KYOov_2v_o"
      },
      "execution_count": 15,
      "outputs": []
    },
    {
      "cell_type": "code",
      "source": [
        "batch_size = 32 #Batch size 32\n",
        "model = createmodel() #Function call to Sequential Neural Network\n",
        "model.fit(X_train, Y_train, epochs = 1, batch_size=batch_size, verbose = 2) #verbose the higher, the more messages\n",
        "score,acc = model.evaluate(X_test,Y_test,verbose=2,batch_size=batch_size) #evaluating the model\n",
        "print(score)\n",
        "print(acc)"
      ],
      "metadata": {
        "colab": {
          "base_uri": "https://localhost:8080/"
        },
        "id": "6vFf-jBS2yFk",
        "outputId": "f8095412-7f4b-4696-8dc7-5a6b6c5ce1ed"
      },
      "execution_count": 16,
      "outputs": [
        {
          "output_type": "stream",
          "name": "stdout",
          "text": [
            "291/291 - 56s - loss: 0.8197 - accuracy: 0.6507 - 56s/epoch - 191ms/step\n",
            "144/144 - 3s - loss: 0.7465 - accuracy: 0.6776 - 3s/epoch - 23ms/step\n",
            "0.746476948261261\n",
            "0.6775884628295898\n"
          ]
        }
      ]
    },
    {
      "cell_type": "code",
      "source": [
        "print(model.metrics_names) #metrics of the model"
      ],
      "metadata": {
        "colab": {
          "base_uri": "https://localhost:8080/"
        },
        "id": "Le81JnL020DS",
        "outputId": "19d003bb-b197-4682-aa68-226dc7330545"
      },
      "execution_count": 17,
      "outputs": [
        {
          "output_type": "stream",
          "name": "stdout",
          "text": [
            "['loss', 'accuracy']\n"
          ]
        }
      ]
    },
    {
      "cell_type": "code",
      "source": [
        "model.save('sentimentAnalysis.h5') #Saving the model"
      ],
      "metadata": {
        "colab": {
          "base_uri": "https://localhost:8080/"
        },
        "id": "X9CMzZU322Vd",
        "outputId": "3055520d-4346-460b-dffb-8e59cc125526"
      },
      "execution_count": 18,
      "outputs": [
        {
          "output_type": "stream",
          "name": "stderr",
          "text": [
            "/usr/local/lib/python3.10/dist-packages/keras/src/engine/training.py:3103: UserWarning: You are saving your model as an HDF5 file via `model.save()`. This file format is considered legacy. We recommend using instead the native Keras format, e.g. `model.save('my_model.keras')`.\n",
            "  saving_api.save_model(\n"
          ]
        }
      ]
    },
    {
      "cell_type": "code",
      "source": [
        "from keras.models import load_model #Importing the package for importing the saved model\n",
        "model= load_model('sentimentAnalysis.h5') #loading the saved model"
      ],
      "metadata": {
        "id": "pCZ_tC_r24Qh"
      },
      "execution_count": 19,
      "outputs": []
    },
    {
      "cell_type": "code",
      "source": [
        "print(integer_encoded)\n",
        "print(data['sentiment'])"
      ],
      "metadata": {
        "colab": {
          "base_uri": "https://localhost:8080/"
        },
        "id": "KvOPWSg926Sz",
        "outputId": "59c10b6d-e434-4250-aa6e-a04c9ee25d80"
      },
      "execution_count": 20,
      "outputs": [
        {
          "output_type": "stream",
          "name": "stdout",
          "text": [
            "[1 2 1 ... 2 0 2]\n",
            "0         Neutral\n",
            "1        Positive\n",
            "2         Neutral\n",
            "3        Positive\n",
            "4        Positive\n",
            "           ...   \n",
            "13866    Negative\n",
            "13867    Positive\n",
            "13868    Positive\n",
            "13869    Negative\n",
            "13870    Positive\n",
            "Name: sentiment, Length: 13871, dtype: object\n"
          ]
        }
      ]
    },
    {
      "cell_type": "code",
      "source": [
        "# Predicting on the text data\n",
        "sentence = ['A lot of good things are happening. We are respected again throughout the world, and that is a great thing.@realDonaldTrump']\n",
        "sentence = tokenizer.texts_to_sequences(sentence) # Tokenizing the sentence\n",
        "sentence = pad_sequences(sentence, maxlen=28, dtype='int32', value=0) # Padding the sentence\n",
        "sentiment_probs = model.predict(sentence, batch_size=1, verbose=2)[0] # Predicting the sentence text\n",
        "sentiment = np.argmax(sentiment_probs)\n",
        "\n",
        "print(sentiment_probs)\n",
        "if sentiment == 0:\n",
        "    print(\"Neutral\")\n",
        "elif sentiment < 0:\n",
        "    print(\"Negative\")\n",
        "elif sentiment > 0:\n",
        "    print(\"Positive\")\n",
        "else:\n",
        "    print(\"Cannot be determined\")"
      ],
      "metadata": {
        "colab": {
          "base_uri": "https://localhost:8080/"
        },
        "id": "8-bBqF3N28FX",
        "outputId": "4edf5bc8-5ec8-4a0a-8304-a02fd4fc416c"
      },
      "execution_count": 21,
      "outputs": [
        {
          "output_type": "stream",
          "name": "stdout",
          "text": [
            "1/1 - 0s - 306ms/epoch - 306ms/step\n",
            "[0.53028214 0.1250899  0.34462798]\n",
            "Neutral\n"
          ]
        }
      ]
    },
    {
      "cell_type": "code",
      "source": [
        "pip install scikeras"
      ],
      "metadata": {
        "colab": {
          "base_uri": "https://localhost:8080/"
        },
        "id": "3PU6aY8I2-Zq",
        "outputId": "b11dc6fc-3a2d-4eee-941d-6cf243d9ce2d"
      },
      "execution_count": 22,
      "outputs": [
        {
          "output_type": "stream",
          "name": "stdout",
          "text": [
            "Collecting scikeras\n",
            "  Downloading scikeras-0.12.0-py3-none-any.whl (27 kB)\n",
            "Requirement already satisfied: packaging>=0.21 in /usr/local/lib/python3.10/dist-packages (from scikeras) (23.2)\n",
            "Requirement already satisfied: scikit-learn>=1.0.0 in /usr/local/lib/python3.10/dist-packages (from scikeras) (1.2.2)\n",
            "Requirement already satisfied: numpy>=1.17.3 in /usr/local/lib/python3.10/dist-packages (from scikit-learn>=1.0.0->scikeras) (1.25.2)\n",
            "Requirement already satisfied: scipy>=1.3.2 in /usr/local/lib/python3.10/dist-packages (from scikit-learn>=1.0.0->scikeras) (1.11.4)\n",
            "Requirement already satisfied: joblib>=1.1.1 in /usr/local/lib/python3.10/dist-packages (from scikit-learn>=1.0.0->scikeras) (1.3.2)\n",
            "Requirement already satisfied: threadpoolctl>=2.0.0 in /usr/local/lib/python3.10/dist-packages (from scikit-learn>=1.0.0->scikeras) (3.3.0)\n",
            "Installing collected packages: scikeras\n",
            "Successfully installed scikeras-0.12.0\n"
          ]
        }
      ]
    },
    {
      "cell_type": "code",
      "source": [
        "from scikeras.wrappers import KerasClassifier #importing Keras classifier\n",
        "\n",
        "from sklearn.model_selection import GridSearchCV #importing Grid search CV\n",
        "\n",
        "model = KerasClassifier(model=createmodel,verbose=2) #initiating model to test performance by applying multiple hyper parameters\n",
        "batch_size= [10, 20, 40] #hyper parameter batch_size\n",
        "epochs = [1, 2] #hyper parameter no. of epochs\n",
        "param_grid= {'batch_size':batch_size, 'epochs':epochs} #creating dictionary for batch size, no. of epochs\n",
        "grid  = GridSearchCV(estimator=model, param_grid=param_grid) #Applying dictionary with hyper parameters\n",
        "grid_result= grid.fit(X_train,Y_train) #Fitting the model\n",
        "# summarize results\n",
        "print(\"Best: %f using %s\" % (grid_result.best_score_, grid_result.best_params_))"
      ],
      "metadata": {
        "colab": {
          "base_uri": "https://localhost:8080/"
        },
        "id": "q2DOfZ7Z3BRg",
        "outputId": "2629fd20-51aa-4012-e55e-41f281f59d68"
      },
      "execution_count": 23,
      "outputs": [
        {
          "output_type": "stream",
          "name": "stdout",
          "text": [
            "744/744 - 112s - loss: 0.8273 - accuracy: 0.6460 - 112s/epoch - 151ms/step\n",
            "186/186 - 7s - 7s/epoch - 37ms/step\n",
            "744/744 - 93s - loss: 0.8190 - accuracy: 0.6490 - 93s/epoch - 125ms/step\n",
            "186/186 - 3s - 3s/epoch - 17ms/step\n",
            "744/744 - 92s - loss: 0.8231 - accuracy: 0.6484 - 92s/epoch - 123ms/step\n",
            "186/186 - 2s - 2s/epoch - 12ms/step\n",
            "744/744 - 93s - loss: 0.8256 - accuracy: 0.6477 - 93s/epoch - 125ms/step\n",
            "186/186 - 2s - 2s/epoch - 13ms/step\n",
            "744/744 - 94s - loss: 0.8231 - accuracy: 0.6444 - 94s/epoch - 126ms/step\n",
            "186/186 - 2s - 2s/epoch - 13ms/step\n",
            "Epoch 1/2\n",
            "744/744 - 92s - loss: 0.8187 - accuracy: 0.6505 - 92s/epoch - 124ms/step\n",
            "Epoch 2/2\n",
            "744/744 - 88s - loss: 0.6781 - accuracy: 0.7132 - 88s/epoch - 119ms/step\n",
            "186/186 - 3s - 3s/epoch - 17ms/step\n",
            "Epoch 1/2\n",
            "744/744 - 94s - loss: 0.8229 - accuracy: 0.6431 - 94s/epoch - 126ms/step\n",
            "Epoch 2/2\n",
            "744/744 - 88s - loss: 0.6800 - accuracy: 0.7135 - 88s/epoch - 119ms/step\n",
            "186/186 - 3s - 3s/epoch - 14ms/step\n",
            "Epoch 1/2\n",
            "744/744 - 96s - loss: 0.8210 - accuracy: 0.6433 - 96s/epoch - 129ms/step\n",
            "Epoch 2/2\n",
            "744/744 - 92s - loss: 0.6770 - accuracy: 0.7154 - 92s/epoch - 124ms/step\n",
            "186/186 - 3s - 3s/epoch - 14ms/step\n",
            "Epoch 1/2\n",
            "744/744 - 95s - loss: 0.8280 - accuracy: 0.6413 - 95s/epoch - 128ms/step\n",
            "Epoch 2/2\n",
            "744/744 - 86s - loss: 0.6746 - accuracy: 0.7147 - 86s/epoch - 116ms/step\n",
            "186/186 - 2s - 2s/epoch - 13ms/step\n",
            "Epoch 1/2\n",
            "744/744 - 92s - loss: 0.8206 - accuracy: 0.6428 - 92s/epoch - 123ms/step\n",
            "Epoch 2/2\n",
            "744/744 - 85s - loss: 0.6672 - accuracy: 0.7157 - 85s/epoch - 115ms/step\n",
            "186/186 - 2s - 2s/epoch - 13ms/step\n",
            "372/372 - 55s - loss: 0.8376 - accuracy: 0.6421 - 55s/epoch - 149ms/step\n",
            "93/93 - 3s - 3s/epoch - 29ms/step\n",
            "372/372 - 54s - loss: 0.8344 - accuracy: 0.6404 - 54s/epoch - 146ms/step\n",
            "93/93 - 2s - 2s/epoch - 25ms/step\n",
            "372/372 - 51s - loss: 0.8282 - accuracy: 0.6445 - 51s/epoch - 137ms/step\n",
            "93/93 - 2s - 2s/epoch - 18ms/step\n",
            "372/372 - 56s - loss: 0.8321 - accuracy: 0.6385 - 56s/epoch - 152ms/step\n",
            "93/93 - 2s - 2s/epoch - 19ms/step\n",
            "372/372 - 54s - loss: 0.8289 - accuracy: 0.6418 - 54s/epoch - 145ms/step\n",
            "93/93 - 2s - 2s/epoch - 19ms/step\n",
            "Epoch 1/2\n",
            "372/372 - 54s - loss: 0.8324 - accuracy: 0.6403 - 54s/epoch - 144ms/step\n",
            "Epoch 2/2\n",
            "372/372 - 47s - loss: 0.6840 - accuracy: 0.7098 - 47s/epoch - 127ms/step\n",
            "93/93 - 3s - 3s/epoch - 30ms/step\n",
            "Epoch 1/2\n",
            "372/372 - 52s - loss: 0.8244 - accuracy: 0.6492 - 52s/epoch - 141ms/step\n",
            "Epoch 2/2\n",
            "372/372 - 48s - loss: 0.6813 - accuracy: 0.7129 - 48s/epoch - 130ms/step\n",
            "93/93 - 2s - 2s/epoch - 18ms/step\n",
            "Epoch 1/2\n",
            "372/372 - 57s - loss: 0.8268 - accuracy: 0.6422 - 57s/epoch - 152ms/step\n",
            "Epoch 2/2\n",
            "372/372 - 54s - loss: 0.6811 - accuracy: 0.7112 - 54s/epoch - 146ms/step\n",
            "93/93 - 2s - 2s/epoch - 19ms/step\n",
            "Epoch 1/2\n",
            "372/372 - 56s - loss: 0.8315 - accuracy: 0.6418 - 56s/epoch - 149ms/step\n",
            "Epoch 2/2\n",
            "372/372 - 50s - loss: 0.6783 - accuracy: 0.7135 - 50s/epoch - 134ms/step\n",
            "93/93 - 2s - 2s/epoch - 17ms/step\n",
            "Epoch 1/2\n",
            "372/372 - 52s - loss: 0.8233 - accuracy: 0.6465 - 52s/epoch - 139ms/step\n",
            "Epoch 2/2\n",
            "372/372 - 49s - loss: 0.6664 - accuracy: 0.7145 - 49s/epoch - 133ms/step\n",
            "93/93 - 2s - 2s/epoch - 17ms/step\n",
            "186/186 - 35s - loss: 0.8450 - accuracy: 0.6332 - 35s/epoch - 191ms/step\n",
            "47/47 - 1s - 1s/epoch - 25ms/step\n",
            "186/186 - 35s - loss: 0.8483 - accuracy: 0.6365 - 35s/epoch - 188ms/step\n",
            "47/47 - 2s - 2s/epoch - 43ms/step\n",
            "186/186 - 32s - loss: 0.8457 - accuracy: 0.6342 - 32s/epoch - 175ms/step\n",
            "47/47 - 1s - 1s/epoch - 24ms/step\n",
            "186/186 - 36s - loss: 0.8398 - accuracy: 0.6393 - 36s/epoch - 193ms/step\n",
            "47/47 - 1s - 1s/epoch - 26ms/step\n",
            "186/186 - 35s - loss: 0.8436 - accuracy: 0.6350 - 35s/epoch - 190ms/step\n",
            "47/47 - 1s - 1s/epoch - 26ms/step\n",
            "Epoch 1/2\n",
            "186/186 - 34s - loss: 0.8454 - accuracy: 0.6381 - 34s/epoch - 185ms/step\n",
            "Epoch 2/2\n",
            "186/186 - 29s - loss: 0.6979 - accuracy: 0.7014 - 29s/epoch - 158ms/step\n",
            "47/47 - 1s - 1s/epoch - 24ms/step\n",
            "Epoch 1/2\n",
            "186/186 - 32s - loss: 0.8476 - accuracy: 0.6337 - 32s/epoch - 174ms/step\n",
            "Epoch 2/2\n",
            "186/186 - 31s - loss: 0.6924 - accuracy: 0.7041 - 31s/epoch - 165ms/step\n",
            "47/47 - 1s - 1s/epoch - 26ms/step\n",
            "Epoch 1/2\n",
            "186/186 - 36s - loss: 0.8408 - accuracy: 0.6287 - 36s/epoch - 194ms/step\n",
            "Epoch 2/2\n",
            "186/186 - 30s - loss: 0.6872 - accuracy: 0.7062 - 30s/epoch - 161ms/step\n",
            "47/47 - 1s - 1s/epoch - 26ms/step\n",
            "Epoch 1/2\n",
            "186/186 - 34s - loss: 0.8514 - accuracy: 0.6299 - 34s/epoch - 185ms/step\n",
            "Epoch 2/2\n",
            "186/186 - 31s - loss: 0.6970 - accuracy: 0.7002 - 31s/epoch - 169ms/step\n",
            "47/47 - 2s - 2s/epoch - 43ms/step\n",
            "Epoch 1/2\n",
            "186/186 - 33s - loss: 0.8564 - accuracy: 0.6304 - 33s/epoch - 175ms/step\n",
            "Epoch 2/2\n",
            "186/186 - 29s - loss: 0.6902 - accuracy: 0.7067 - 29s/epoch - 157ms/step\n",
            "47/47 - 1s - 1s/epoch - 25ms/step\n",
            "Epoch 1/2\n",
            "233/233 - 43s - loss: 0.8304 - accuracy: 0.6421 - 43s/epoch - 184ms/step\n",
            "Epoch 2/2\n",
            "233/233 - 39s - loss: 0.6853 - accuracy: 0.7046 - 39s/epoch - 166ms/step\n",
            "Best: 0.679543 using {'batch_size': 40, 'epochs': 2}\n"
          ]
        }
      ]
    }
  ]
}